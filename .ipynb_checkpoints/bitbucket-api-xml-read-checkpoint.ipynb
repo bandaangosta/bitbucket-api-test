{
 "cells": [
  {
   "cell_type": "markdown",
   "metadata": {
    "slideshow": {
     "slide_type": "slide"
    }
   },
   "source": [
    "# Bitbucket REST API configuration files testing"
   ]
  },
  {
   "cell_type": "markdown",
   "metadata": {
    "slideshow": {
     "slide_type": "slide"
    }
   },
   "source": [
    "## Setup"
   ]
  },
  {
   "cell_type": "code",
   "execution_count": 1,
   "metadata": {
    "collapsed": true,
    "slideshow": {
     "slide_type": "slide"
    }
   },
   "outputs": [],
   "source": [
    "import requests\n",
    "import json\n",
    "from datetime import datetime\n",
    "import config as cfg"
   ]
  },
  {
   "cell_type": "code",
   "execution_count": 2,
   "metadata": {
    "collapsed": true,
    "slideshow": {
     "slide_type": "-"
    }
   },
   "outputs": [],
   "source": [
    "host  = cfg.host\n",
    "username = cfg.username\n",
    "password = cfg.password\n",
    "\n",
    "project = 'ALMA'\n",
    "repo = 'configurations'"
   ]
  },
  {
   "cell_type": "markdown",
   "metadata": {
    "slideshow": {
     "slide_type": "slide"
    }
   },
   "source": [
    "## Retrieving a particular revision (commit id) of a configuration file"
   ]
  },
  {
   "cell_type": "code",
   "execution_count": 3,
   "metadata": {
    "collapsed": true,
    "slideshow": {
     "slide_type": "slide"
    }
   },
   "outputs": [],
   "source": [
    "esn = 86934377556082908\n",
    "rev = 'master' #'00707a5672fe367ee7b018ae4645742c3f2a3267'"
   ]
  },
  {
   "cell_type": "code",
   "execution_count": 4,
   "metadata": {
    "collapsed": true,
    "slideshow": {
     "slide_type": "-"
    }
   },
   "outputs": [],
   "source": [
    "baseUrl = '{host}/rest/api/1.0/projects/{project}/repos/{repo}/browse/APE/TMCDB_DATA/{ESN}.xml'\n",
    "url = baseUrl.format(host=host, project=project, repo=repo, ESN=esn)\n",
    "params = {'at' : rev}\n",
    "resp = requests.get(url, params=params, auth=(username, password))"
   ]
  },
  {
   "cell_type": "code",
   "execution_count": 5,
   "metadata": {
    "slideshow": {
     "slide_type": "slide"
    }
   },
   "outputs": [
    {
     "name": "stdout",
     "output_type": "stream",
     "text": [
      "{\n",
      "  \"lines\": [\n",
      "    {\n",
      "      \"text\": \"<?xml version=\\\"1.0\\\" ?>\"\n",
      "    },\n",
      "    {\n",
      "      \"text\": \"<ConfigData>\"\n",
      "    },\n",
      "    {\n",
      "      \"text\": \"    <ASSEMBLY value=\\\"ColdCart10\\\"/>\"\n",
      "    },\n",
      "    {\n",
      "      \"text\": \"\\t<MixerParams FreqLO=\\\"794.000E9\\\" IJ01=\\\"49.591\\\" IJ02=\\\"0.000\\\" IJ11=\\\"24.811\\\" IJ12=\\\"0.000\\\" VJ01=\\\"2.003\\\" VJ02=\\\"0.000\\\" VJ11=\\\"2.001\\\" VJ12=\\\"0.000\\\"/>\"\n",
      "    },\n",
      "    {\n",
      "      \"text\": \"\\t<MixerParams FreqLO=\\\"799.000E9\\\" IJ01=\\\"26.306\\\" IJ02=\\\"0.000\\\" IJ11=\\\"40.192\\\" IJ12=\\\"0.000\\\" VJ01=\\\"2.002\\\" VJ02=\\\"0.000\\\" VJ11=\\\"1.997\\\" VJ12=\\\"0.000\\\"/>\"\n",
      "    },\n",
      "    {\n",
      "      \"text\": \"\\t<MixerParams FreqLO=\\\"802.000E9\\\" IJ01=\\\"29.602\\\" IJ02=\\\"0.000\\\" IJ11=\\\"20.264\\\" IJ12=\\\"0.000\\\" VJ01=\\\"2.001\\\" VJ02=\\\"0.000\\\" VJ11=\\\"1.997\\\" VJ12=\\\"0.000\\\"/>\"\n",
      "    },\n",
      "    {\n",
      "      \"text\": \"\\t<MixerParams FreqLO=\\\"810.000E9\\\" IJ01=\\\"44.983\\\" IJ02=\\\"0.000\\\" IJ11=\\\"33.478\\\" IJ12=\\\"0.000\\\" VJ01=\\\"2.001\\\" VJ02=\\\"0.000\\\" VJ11=\\\"1.901\\\" VJ12=\\\"0.000\\\"/>\"\n",
      "    },\n",
      "    {\n",
      "      \"text\": \"\\t<MixerParams FreqLO=\\\"818.000E9\\\" IJ01=\\\"24.292\\\" IJ02=\\\"0.000\\\" IJ11=\\\"29.266\\\" IJ12=\\\"0.000\\\" VJ01=\\\"1.999\\\" VJ02=\\\"0.000\\\" VJ11=\\\"2.047\\\" VJ12=\\\"0.000\\\"/>\"\n",
      "    },\n",
      "    {\n",
      "      \"text\": \"\\t<MixerParams FreqLO=\\\"826.000E9\\\" IJ01=\\\"45.197\\\" IJ02=\\\"0.000\\\" IJ11=\\\"20.966\\\" IJ12=\\\"0.000\\\" VJ01=\\\"2.000\\\" VJ02=\\\"0.000\\\" VJ11=\\\"2.045\\\" VJ12=\\\"0.000\\\"/>\"\n",
      "    },\n",
      "    {\n",
      "      \"text\": \"\\t<MixerParams FreqLO=\\\"834.000E9\\\" IJ01=\\\"40.497\\\" IJ02=\\\"0.000\\\" IJ11=\\\"29.419\\\" IJ12=\\\"0.000\\\" VJ01=\\\"2.003\\\" VJ02=\\\"0.000\\\" VJ11=\\\"2.050\\\" VJ12=\\\"0.000\\\"/>\"\n",
      "    },\n",
      "    {\n",
      "      \"text\": \"\\t<MixerParams FreqLO=\\\"842.000E9\\\" IJ01=\\\"40.283\\\" IJ02=\\\"0.000\\\" IJ11=\\\"40.955\\\" IJ12=\\\"0.000\\\" VJ01=\\\"2.048\\\" VJ02=\\\"0.000\\\" VJ11=\\\"2.061\\\" VJ12=\\\"0.000\\\"/>\"\n",
      "    },\n",
      "    {\n",
      "      \"text\": \"\\t<MixerParams FreqLO=\\\"850.000E9\\\" IJ01=\\\"40.192\\\" IJ02=\\\"0.000\\\" IJ11=\\\"30.396\\\" IJ12=\\\"0.000\\\" VJ01=\\\"2.047\\\" VJ02=\\\"0.000\\\" VJ11=\\\"2.074\\\" VJ12=\\\"0.000\\\"/>\"\n",
      "    },\n",
      "    {\n",
      "      \"text\": \"\\t<MixerParams FreqLO=\\\"858.000E9\\\" IJ01=\\\"44.373\\\" IJ02=\\\"0.000\\\" IJ11=\\\"25.665\\\" IJ12=\\\"0.000\\\" VJ01=\\\"2.000\\\" VJ02=\\\"0.000\\\" VJ11=\\\"2.098\\\" VJ12=\\\"0.000\\\"/>\"\n",
      "    },\n",
      "    {\n",
      "      \"text\": \"\\t<MixerParams FreqLO=\\\"862.000E9\\\" IJ01=\\\"42.720\\\" IJ02=\\\"0.000\\\" IJ11=\\\"35.250\\\" IJ12=\\\"0.000\\\" VJ01=\\\"1.970\\\" VJ02=\\\"0.000\\\" VJ11=\\\"2.098\\\" VJ12=\\\"0.000\\\"/>\"\n",
      "    },\n",
      "    {\n",
      "      \"text\": \"\\t<MixerParams FreqLO=\\\"866.000E9\\\" IJ01=\\\"41.077\\\" IJ02=\\\"0.000\\\" IJ11=\\\"44.830\\\" IJ12=\\\"0.000\\\" VJ01=\\\"1.970\\\" VJ02=\\\"0.000\\\" VJ11=\\\"2.106\\\" VJ12=\\\"0.000\\\"/>\"\n",
      "    },\n",
      "    {\n",
      "      \"text\": \"\\t<MixerParams FreqLO=\\\"874.000E9\\\" IJ01=\\\"49.255\\\" IJ02=\\\"0.000\\\" IJ11=\\\"45.166\\\" IJ12=\\\"0.000\\\" VJ01=\\\"2.090\\\" VJ02=\\\"0.000\\\" VJ11=\\\"2.110\\\" VJ12=\\\"0.000\\\"/>\"\n",
      "    },\n",
      "    {\n",
      "      \"text\": \"\\t<MixerParams FreqLO=\\\"882.000E9\\\" IJ01=\\\"49.652\\\" IJ02=\\\"0.000\\\" IJ11=\\\"39.795\\\" IJ12=\\\"0.000\\\" VJ01=\\\"2.100\\\" VJ02=\\\"0.000\\\" VJ11=\\\"2.113\\\" VJ12=\\\"0.000\\\"/>\"\n",
      "    },\n",
      "    {\n",
      "      \"text\": \"\\t<MixerParams FreqLO=\\\"890.000E9\\\" IJ01=\\\"49.133\\\" IJ02=\\\"0.000\\\" IJ11=\\\"40.649\\\" IJ12=\\\"0.000\\\" VJ01=\\\"2.108\\\" VJ02=\\\"0.000\\\" VJ11=\\\"2.118\\\" VJ12=\\\"0.000\\\"/>\"\n",
      "    },\n",
      "    {\n",
      "      \"text\": \"\\t<MixerParams FreqLO=\\\"893.000E9\\\" IJ01=\\\"45.105\\\" IJ02=\\\"0.000\\\" IJ11=\\\"25.696\\\" IJ12=\\\"0.000\\\" VJ01=\\\"2.098\\\" VJ02=\\\"0.000\\\" VJ11=\\\"2.114\\\" VJ12=\\\"0.000\\\"/>\"\n",
      "    },\n",
      "    {\n",
      "      \"text\": \"\\t<MixerParams FreqLO=\\\"898.000E9\\\" IJ01=\\\"35.452\\\" IJ02=\\\"0.000\\\" IJ11=\\\"45.319\\\" IJ12=\\\"0.000\\\" VJ01=\\\"2.104\\\" VJ02=\\\"0.000\\\" VJ11=\\\"2.119\\\" VJ12=\\\"0.000\\\"/>\"\n",
      "    },\n",
      "    {\n",
      "      \"text\": \"\\t<MixerParams FreqLO=\\\"906.000E9\\\" IJ01=\\\"51.056\\\" IJ02=\\\"0.000\\\" IJ11=\\\"49.255\\\" IJ12=\\\"0.000\\\" VJ01=\\\"2.110\\\" VJ02=\\\"0.000\\\" VJ11=\\\"2.109\\\" VJ12=\\\"0.000\\\"/>\"\n",
      "    },\n",
      "    {\n",
      "      \"text\": \"\\t<MixerParams FreqLO=\\\"914.000E9\\\" IJ01=\\\"44.983\\\" IJ02=\\\"0.000\\\" IJ11=\\\"40.100\\\" IJ12=\\\"0.000\\\" VJ01=\\\"2.134\\\" VJ02=\\\"0.000\\\" VJ11=\\\"2.138\\\" VJ12=\\\"0.000\\\"/>\"\n",
      "    },\n",
      "    {\n",
      "      \"text\": \"\\t<MixerParams FreqLO=\\\"922.000E9\\\" IJ01=\\\"49.622\\\" IJ02=\\\"0.000\\\" IJ11=\\\"39.795\\\" IJ12=\\\"0.000\\\" VJ01=\\\"2.100\\\" VJ02=\\\"0.000\\\" VJ11=\\\"2.158\\\" VJ12=\\\"0.000\\\"/>\"\n",
      "    },\n",
      "    {\n",
      "      \"text\": \"\\t<MixerParams FreqLO=\\\"930.000E9\\\" IJ01=\\\"35.182\\\" IJ02=\\\"0.000\\\" IJ11=\\\"50.476\\\" IJ12=\\\"0.000\\\" VJ01=\\\"2.100\\\" VJ02=\\\"0.000\\\" VJ11=\\\"2.100\\\" VJ12=\\\"0.000\\\"/>\"\n",
      "    },\n",
      "    {\n",
      "      \"text\": \"\\t<MixerParams FreqLO=\\\"938.000E9\\\" IJ01=\\\"30.355\\\" IJ02=\\\"0.000\\\" IJ11=\\\"46.051\\\" IJ12=\\\"0.000\\\" VJ01=\\\"2.100\\\" VJ02=\\\"0.000\\\" VJ11=\\\"2.150\\\" VJ12=\\\"0.000\\\"/>\"\n",
      "    },\n",
      "    {\n",
      "      \"text\": \"\\t<MagnetParams FreqLO=\\\"794.000E9\\\" IMag01=\\\"9.500\\\" IMag02=\\\"0.000\\\" IMag11=\\\"8.700\\\" IMag12=\\\"0.000\\\"/>\"\n",
      "    },\n",
      "    {\n",
      "      \"text\": \"    <PreampParamsPol0Sb1 FreqLO=\\\"874.000E9\\\" VD1=\\\"1.20\\\" VD2=\\\"0.00\\\" VD3=\\\"0.00\\\" ID1=\\\"13.98\\\" ID2=\\\"0.00\\\" ID3=\\\"0.00\\\" VG1=\\\"0.30\\\" VG2=\\\"0.00\\\" VG3=\\\"0.00\\\"/>\"\n",
      "    },\n",
      "    {\n",
      "      \"text\": \"    <PreampParamsPol0Sb2 FreqLO=\\\"0.0\\\"/>\"\n",
      "    },\n",
      "    {\n",
      "      \"text\": \"    <PreampParamsPol1Sb1 FreqLO=\\\"874.000E9\\\" VD1=\\\"1.20\\\" VD2=\\\"0.00\\\" VD3=\\\"0.00\\\" ID1=\\\"13.95\\\" ID2=\\\"0.00\\\" ID3=\\\"0.00\\\" VG1=\\\"-0.32\\\" VG2=\\\"0.00\\\" VG3=\\\"0.00\\\"/>\"\n",
      "    },\n",
      "    {\n",
      "      \"text\": \"    <PreampParamsPol1Sb2 FreqLO=\\\"0.0\\\"/>\"\n",
      "    },\n",
      "    {\n",
      "      \"text\": \"    <PolarizationOrientation PolXAngle=\\\"1.5707963268\\\" PolYAngle=\\\"3.1415926536\\\"/>\"\n",
      "    },\n",
      "    {\n",
      "      \"text\": \"</ConfigData>\"\n",
      "    }\n",
      "  ],\n",
      "  \"start\": 0,\n",
      "  \"size\": 32,\n",
      "  \"isLastPage\": true\n",
      "}\n"
     ]
    }
   ],
   "source": [
    "# JSON response\n",
    "print(json.dumps(resp.json(), indent=2))"
   ]
  },
  {
   "cell_type": "code",
   "execution_count": 6,
   "metadata": {
    "slideshow": {
     "slide_type": "slide"
    }
   },
   "outputs": [
    {
     "name": "stdout",
     "output_type": "stream",
     "text": [
      "<?xml version=\"1.0\" ?>\n",
      "<ConfigData>\n",
      "    <ASSEMBLY value=\"ColdCart10\"/>\n",
      "\t<MixerParams FreqLO=\"794.000E9\" IJ01=\"49.591\" IJ02=\"0.000\" IJ11=\"24.811\" IJ12=\"0.000\" VJ01=\"2.003\" VJ02=\"0.000\" VJ11=\"2.001\" VJ12=\"0.000\"/>\n",
      "\t<MixerParams FreqLO=\"799.000E9\" IJ01=\"26.306\" IJ02=\"0.000\" IJ11=\"40.192\" IJ12=\"0.000\" VJ01=\"2.002\" VJ02=\"0.000\" VJ11=\"1.997\" VJ12=\"0.000\"/>\n",
      "\t<MixerParams FreqLO=\"802.000E9\" IJ01=\"29.602\" IJ02=\"0.000\" IJ11=\"20.264\" IJ12=\"0.000\" VJ01=\"2.001\" VJ02=\"0.000\" VJ11=\"1.997\" VJ12=\"0.000\"/>\n",
      "\t<MixerParams FreqLO=\"810.000E9\" IJ01=\"44.983\" IJ02=\"0.000\" IJ11=\"33.478\" IJ12=\"0.000\" VJ01=\"2.001\" VJ02=\"0.000\" VJ11=\"1.901\" VJ12=\"0.000\"/>\n",
      "\t<MixerParams FreqLO=\"818.000E9\" IJ01=\"24.292\" IJ02=\"0.000\" IJ11=\"29.266\" IJ12=\"0.000\" VJ01=\"1.999\" VJ02=\"0.000\" VJ11=\"2.047\" VJ12=\"0.000\"/>\n",
      "\t<MixerParams FreqLO=\"826.000E9\" IJ01=\"45.197\" IJ02=\"0.000\" IJ11=\"20.966\" IJ12=\"0.000\" VJ01=\"2.000\" VJ02=\"0.000\" VJ11=\"2.045\" VJ12=\"0.000\"/>\n",
      "\t<MixerParams FreqLO=\"834.000E9\" IJ01=\"40.497\" IJ02=\"0.000\" IJ11=\"29.419\" IJ12=\"0.000\" VJ01=\"2.003\" VJ02=\"0.000\" VJ11=\"2.050\" VJ12=\"0.000\"/>\n",
      "\t<MixerParams FreqLO=\"842.000E9\" IJ01=\"40.283\" IJ02=\"0.000\" IJ11=\"40.955\" IJ12=\"0.000\" VJ01=\"2.048\" VJ02=\"0.000\" VJ11=\"2.061\" VJ12=\"0.000\"/>\n",
      "\t<MixerParams FreqLO=\"850.000E9\" IJ01=\"40.192\" IJ02=\"0.000\" IJ11=\"30.396\" IJ12=\"0.000\" VJ01=\"2.047\" VJ02=\"0.000\" VJ11=\"2.074\" VJ12=\"0.000\"/>\n",
      "\t<MixerParams FreqLO=\"858.000E9\" IJ01=\"44.373\" IJ02=\"0.000\" IJ11=\"25.665\" IJ12=\"0.000\" VJ01=\"2.000\" VJ02=\"0.000\" VJ11=\"2.098\" VJ12=\"0.000\"/>\n",
      "\t<MixerParams FreqLO=\"862.000E9\" IJ01=\"42.720\" IJ02=\"0.000\" IJ11=\"35.250\" IJ12=\"0.000\" VJ01=\"1.970\" VJ02=\"0.000\" VJ11=\"2.098\" VJ12=\"0.000\"/>\n",
      "\t<MixerParams FreqLO=\"866.000E9\" IJ01=\"41.077\" IJ02=\"0.000\" IJ11=\"44.830\" IJ12=\"0.000\" VJ01=\"1.970\" VJ02=\"0.000\" VJ11=\"2.106\" VJ12=\"0.000\"/>\n",
      "\t<MixerParams FreqLO=\"874.000E9\" IJ01=\"49.255\" IJ02=\"0.000\" IJ11=\"45.166\" IJ12=\"0.000\" VJ01=\"2.090\" VJ02=\"0.000\" VJ11=\"2.110\" VJ12=\"0.000\"/>\n",
      "\t<MixerParams FreqLO=\"882.000E9\" IJ01=\"49.652\" IJ02=\"0.000\" IJ11=\"39.795\" IJ12=\"0.000\" VJ01=\"2.100\" VJ02=\"0.000\" VJ11=\"2.113\" VJ12=\"0.000\"/>\n",
      "\t<MixerParams FreqLO=\"890.000E9\" IJ01=\"49.133\" IJ02=\"0.000\" IJ11=\"40.649\" IJ12=\"0.000\" VJ01=\"2.108\" VJ02=\"0.000\" VJ11=\"2.118\" VJ12=\"0.000\"/>\n",
      "\t<MixerParams FreqLO=\"893.000E9\" IJ01=\"45.105\" IJ02=\"0.000\" IJ11=\"25.696\" IJ12=\"0.000\" VJ01=\"2.098\" VJ02=\"0.000\" VJ11=\"2.114\" VJ12=\"0.000\"/>\n",
      "\t<MixerParams FreqLO=\"898.000E9\" IJ01=\"35.452\" IJ02=\"0.000\" IJ11=\"45.319\" IJ12=\"0.000\" VJ01=\"2.104\" VJ02=\"0.000\" VJ11=\"2.119\" VJ12=\"0.000\"/>\n",
      "\t<MixerParams FreqLO=\"906.000E9\" IJ01=\"51.056\" IJ02=\"0.000\" IJ11=\"49.255\" IJ12=\"0.000\" VJ01=\"2.110\" VJ02=\"0.000\" VJ11=\"2.109\" VJ12=\"0.000\"/>\n",
      "\t<MixerParams FreqLO=\"914.000E9\" IJ01=\"44.983\" IJ02=\"0.000\" IJ11=\"40.100\" IJ12=\"0.000\" VJ01=\"2.134\" VJ02=\"0.000\" VJ11=\"2.138\" VJ12=\"0.000\"/>\n",
      "\t<MixerParams FreqLO=\"922.000E9\" IJ01=\"49.622\" IJ02=\"0.000\" IJ11=\"39.795\" IJ12=\"0.000\" VJ01=\"2.100\" VJ02=\"0.000\" VJ11=\"2.158\" VJ12=\"0.000\"/>\n",
      "\t<MixerParams FreqLO=\"930.000E9\" IJ01=\"35.182\" IJ02=\"0.000\" IJ11=\"50.476\" IJ12=\"0.000\" VJ01=\"2.100\" VJ02=\"0.000\" VJ11=\"2.100\" VJ12=\"0.000\"/>\n",
      "\t<MixerParams FreqLO=\"938.000E9\" IJ01=\"30.355\" IJ02=\"0.000\" IJ11=\"46.051\" IJ12=\"0.000\" VJ01=\"2.100\" VJ02=\"0.000\" VJ11=\"2.150\" VJ12=\"0.000\"/>\n",
      "\t<MagnetParams FreqLO=\"794.000E9\" IMag01=\"9.500\" IMag02=\"0.000\" IMag11=\"8.700\" IMag12=\"0.000\"/>\n",
      "    <PreampParamsPol0Sb1 FreqLO=\"874.000E9\" VD1=\"1.20\" VD2=\"0.00\" VD3=\"0.00\" ID1=\"13.98\" ID2=\"0.00\" ID3=\"0.00\" VG1=\"0.30\" VG2=\"0.00\" VG3=\"0.00\"/>\n",
      "    <PreampParamsPol0Sb2 FreqLO=\"0.0\"/>\n",
      "    <PreampParamsPol1Sb1 FreqLO=\"874.000E9\" VD1=\"1.20\" VD2=\"0.00\" VD3=\"0.00\" ID1=\"13.95\" ID2=\"0.00\" ID3=\"0.00\" VG1=\"-0.32\" VG2=\"0.00\" VG3=\"0.00\"/>\n",
      "    <PreampParamsPol1Sb2 FreqLO=\"0.0\"/>\n",
      "    <PolarizationOrientation PolXAngle=\"1.5707963268\" PolYAngle=\"3.1415926536\"/>\n",
      "</ConfigData>\n"
     ]
    }
   ],
   "source": [
    "# Plain xml configuration file\n",
    "data = resp.json()\n",
    "xml = '\\n'.join([line['text'] for line in data['lines']])\n",
    "print(xml)"
   ]
  },
  {
   "cell_type": "markdown",
   "metadata": {
    "slideshow": {
     "slide_type": "slide"
    }
   },
   "source": [
    "## Getting commits history for a particular configuration file"
   ]
  },
  {
   "cell_type": "code",
   "execution_count": 7,
   "metadata": {
    "collapsed": true,
    "slideshow": {
     "slide_type": "slide"
    }
   },
   "outputs": [],
   "source": [
    "baseUrl = '{host}/rest/api/1.0/projects/{project}/repos/{repo}/commits'\n",
    "url = baseUrl.format(host=host, project=project, repo=repo)\n",
    "params = {'path' : 'APE/TMCDB_DATA/{ESN}.xml'.format(ESN=esn), 'limit': 100}\n",
    "resp = requests.get(url, params=params, auth=(username, password))"
   ]
  },
  {
   "cell_type": "code",
   "execution_count": 8,
   "metadata": {
    "slideshow": {
     "slide_type": "slide"
    }
   },
   "outputs": [
    {
     "name": "stdout",
     "output_type": "stream",
     "text": [
      "{\n",
      "  \"values\": [\n",
      "    {\n",
      "      \"id\": \"00707a5672fe367ee7b018ae4645742c3f2a3267\",\n",
      "      \"displayId\": \"00707a5672f\",\n",
      "      \"author\": {\n",
      "        \"name\": \"sotarola\",\n",
      "        \"emailAddress\": \"software@alma.cl\"\n",
      "      },\n",
      "      \"authorTimestamp\": 1509735948000,\n",
      "      \"message\": \"The configuration file 86934377556082908.xml has been updated by sotarola according to AIV-20372\",\n",
      "      \"parents\": [\n",
      "        {\n",
      "          \"id\": \"fae2c461358913fda881da52860f398228a89e54\",\n",
      "          \"displayId\": \"fae2c461358\"\n",
      "        }\n",
      "      ],\n",
      "      \"properties\": {\n",
      "        \"jira-key\": [\n",
      "          \"AIV-20372\"\n",
      "        ]\n",
      "      }\n",
      "    },\n",
      "    {\n",
      "      \"id\": \"547e469c2afe6465a04508cce6166e35eae2817d\",\n",
      "      \"displayId\": \"547e469c2af\",\n",
      "      \"author\": {\n",
      "        \"name\": \"link_authentication\",\n",
      "        \"emailAddress\": \"johnny.reveco@alma.cl\",\n",
      "        \"id\": 408,\n",
      "        \"displayName\": \"Athenticate link to jira.alma.cl\",\n",
      "        \"active\": true,\n",
      "        \"slug\": \"link_authentication\",\n",
      "        \"type\": \"NORMAL\",\n",
      "        \"links\": {\n",
      "          \"self\": [\n",
      "            {\n",
      "              \"href\": \"https://bitbucket.sco.alma.cl/users/link_authentication\"\n",
      "            }\n",
      "          ]\n",
      "        }\n",
      "      },\n",
      "      \"authorTimestamp\": 1506781353000,\n",
      "      \"message\": \"Added TMCDB_DATA files from SVN trunk\",\n",
      "      \"parents\": [\n",
      "        {\n",
      "          \"id\": \"31a5016547586fe3454cc6e38aec0371b08b4ea6\",\n",
      "          \"displayId\": \"31a50165475\"\n",
      "        }\n",
      "      ]\n",
      "    }\n",
      "  ],\n",
      "  \"size\": 2,\n",
      "  \"isLastPage\": true,\n",
      "  \"start\": 0,\n",
      "  \"limit\": 100,\n",
      "  \"nextPageStart\": null\n",
      "}\n"
     ]
    }
   ],
   "source": [
    "# JSON response\n",
    "# Note that this may be a paged response. See:\n",
    "# (https://developer.atlassian.com/static/rest/bitbucket-server/latest/bitbucket-rest.html#paging-params)\n",
    "print(json.dumps(resp.json(), indent=2))"
   ]
  },
  {
   "cell_type": "code",
   "execution_count": 9,
   "metadata": {
    "slideshow": {
     "slide_type": "slide"
    }
   },
   "outputs": [
    {
     "name": "stdout",
     "output_type": "stream",
     "text": [
      "00707a5672fe367ee7b018ae4645742c3f2a3267\n",
      "sotarola\n",
      "The configuration file 86934377556082908.xml has been updated by sotarola according to AIV-20372\n",
      "2017-11-03 19:05:48 (UTC)\n",
      "\n",
      "547e469c2afe6465a04508cce6166e35eae2817d\n",
      "link_authentication\n",
      "Added TMCDB_DATA files from SVN trunk\n",
      "2017-09-30 14:22:33 (UTC)\n",
      "\n"
     ]
    }
   ],
   "source": [
    "data = resp.json()\n",
    "for commit in data['values']:    \n",
    "    print(commit['id'])\n",
    "    print(commit['author']['name'])\n",
    "    print(commit['message'])    \n",
    "    utc_time = datetime.utcfromtimestamp(int(commit['authorTimestamp']) / 1000)\n",
    "    print(utc_time.strftime(\"%Y-%m-%d %H:%M:%S (UTC)\"))\n",
    "    print()"
   ]
  }
 ],
 "metadata": {
  "celltoolbar": "Slideshow",
  "kernelspec": {
   "display_name": "Python 3",
   "language": "python",
   "name": "python3"
  },
  "language_info": {
   "codemirror_mode": {
    "name": "ipython",
    "version": 3
   },
   "file_extension": ".py",
   "mimetype": "text/x-python",
   "name": "python",
   "nbconvert_exporter": "python",
   "pygments_lexer": "ipython3",
   "version": "3.6.1"
  }
 },
 "nbformat": 4,
 "nbformat_minor": 2
}
